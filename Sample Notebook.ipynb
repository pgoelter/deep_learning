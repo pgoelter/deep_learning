{
 "cells": [
  {
   "cell_type": "code",
   "execution_count": 5,
   "id": "a3fb5ee8-d7fd-4b79-b9a9-25169cc0bcad",
   "metadata": {},
   "outputs": [],
   "source": [
    "# Add this line on top of your notebook to enable autocomplete functionality\n",
    "%config IPCompleter.greedy=True\n",
    "\n",
    "# Show available methods and attributes of an object by typing object. and then hit TAB\n",
    "# If you have a function call you can type object.function() and hit SHIFT + TAB to show method signature\n",
    "\n",
    "# To make an existing anaconda environment available as a new kernel in jupyter lab do the following:\n",
    "# 1. Activate conda environment\n",
    "# 2. Execute: conda install ipykernel\n",
    "# 3. Execute: ipython kernel install --user --name=<any_name_for_kernel>\n",
    "# 4. Restart Jupyter Notebook/Lab\n",
    "# 5. Now you should be able to select the new kernel."
   ]
  },
  {
   "cell_type": "code",
   "execution_count": 6,
   "id": "3630d2c8-10e4-41e7-bc75-5607eaf9d439",
   "metadata": {},
   "outputs": [],
   "source": [
    "# Imports\n",
    "import keras\n",
    "import numpy as np\n",
    "import pandas as pd\n",
    "import tensorflow as tf"
   ]
  },
  {
   "cell_type": "code",
   "execution_count": 13,
   "id": "56167a55-9bc5-404f-b5cb-5a9dc0e9110f",
   "metadata": {},
   "outputs": [
    {
     "name": "stdout",
     "output_type": "stream",
     "text": [
      "Numpy version:  1.19.5\n",
      "Pandas version:  1.2.4\n",
      "Keras version:  2.4.3\n",
      "Tensorflow version:  2.4.1\n"
     ]
    }
   ],
   "source": [
    "print(\"Numpy version: \", np.__version__)\n",
    "print(\"Pandas version: \", pd.__version__)\n",
    "print(\"Keras version: \", keras.__version__)\n",
    "print(\"Tensorflow version: \", tf.__version__)"
   ]
  },
  {
   "cell_type": "code",
   "execution_count": null,
   "id": "6532d257-93c6-45e1-860c-f015cbb1e57a",
   "metadata": {},
   "outputs": [],
   "source": []
  }
 ],
 "metadata": {
  "kernelspec": {
   "display_name": "DL",
   "language": "python",
   "name": "dl"
  },
  "language_info": {
   "codemirror_mode": {
    "name": "ipython",
    "version": 3
   },
   "file_extension": ".py",
   "mimetype": "text/x-python",
   "name": "python",
   "nbconvert_exporter": "python",
   "pygments_lexer": "ipython3",
   "version": "3.8.0"
  }
 },
 "nbformat": 4,
 "nbformat_minor": 5
}
