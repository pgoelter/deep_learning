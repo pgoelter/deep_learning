{
 "cells": [
  {
   "cell_type": "code",
   "execution_count": 1,
   "id": "a3fb5ee8-d7fd-4b79-b9a9-25169cc0bcad",
   "metadata": {},
   "outputs": [],
   "source": [
    "# Add this line on top of your notebook to enable autocomplete functionality\n",
    "%config IPCompleter.greedy=True\n",
    "\n",
    "# Show available methods and attributes of an object by typing object. and then hit TAB\n",
    "# If you have a function call you can type object.function() and hit SHIFT + TAB to show method signature\n",
    "\n",
    "# To make an existing anaconda environment available as a new kernel in jupyter lab do the following:\n",
    "# 1. Activate conda environment\n",
    "# 2. Execute: conda install ipykernel\n",
    "# 3. Execute: ipython kernel install --user --name=<any_name_for_kernel>\n",
    "# 4. Restart Jupyter Notebook/Lab\n",
    "# 5. Now you should be able to select the new kernel."
   ]
  },
  {
   "cell_type": "code",
   "execution_count": 2,
   "id": "3630d2c8-10e4-41e7-bc75-5607eaf9d439",
   "metadata": {},
   "outputs": [
    {
     "name": "stderr",
     "output_type": "stream",
     "text": [
      "WARNING (theano.configdefaults): g++ not available, if using conda: `conda install m2w64-toolchain`\n",
      "C:\\Users\\philn\\miniconda3\\envs\\DL\\lib\\site-packages\\theano\\configdefaults.py:560: UserWarning: DeprecationWarning: there is no c++ compiler.This is deprecated and with Theano 0.11 a c++ compiler will be mandatory\n",
      "  warnings.warn(\"DeprecationWarning: there is no c++ compiler.\"\n",
      "WARNING (theano.configdefaults): g++ not detected ! Theano will be unable to execute optimized C-implementations (for both CPU and GPU) and will default to Python implementations. Performance will be severely degraded. To remove this warning, set Theano flags cxx to an empty string.\n",
      "WARNING (theano.tensor.blas): Using NumPy C-API based implementation for BLAS functions.\n"
     ]
    }
   ],
   "source": [
    "# Pacakges: ML Basics\n",
    "import sklearn\n",
    "import scipy\n",
    "import theano # Requires an installed c++ compiler like g++ for performance optimizations\n",
    "\n",
    "# Packages: ML Data Structures\n",
    "import numpy as np\n",
    "import pandas as pd\n",
    "import dask\n",
    "\n",
    "# Packages: Natural Language Processing\n",
    "import nltk\n",
    "# If there is an error downloading nltk stopwords or any other resources uncomment the following code (https://stackoverflow.com/questions/38916452/nltk-download-ssl-certificate-verify-failed):\n",
    "# import ssl\n",
    "\n",
    "# try:\n",
    "#     _create_unverified_https_context = ssl._create_unverified_context\n",
    "# except AttributeError:\n",
    "#     pass\n",
    "# else:\n",
    "#     ssl._create_default_https_context = _create_unverified_https_context\n",
    "\n",
    "# nltk.download()\n",
    "import spacy\n",
    "import gensim\n",
    "\n",
    "# Packages: Deep Learning\n",
    "import keras # Check .kears/keras.json in your user directory to configure backend\n",
    "import torch\n",
    "import tensorflow as tf\n",
    "\n",
    "# Packages: Plotting Data\n",
    "import matplotlib as mp\n",
    "import seaborn as sb"
   ]
  },
  {
   "cell_type": "code",
   "execution_count": 3,
   "id": "56167a55-9bc5-404f-b5cb-5a9dc0e9110f",
   "metadata": {},
   "outputs": [
    {
     "name": "stdout",
     "output_type": "stream",
     "text": [
      "[Packages: ML- Basics]\n",
      "Scikit-Learn version:  0.24.1\n",
      "Scipy version:  1.6.2\n",
      "Theano version:  1.0.5\n",
      "\n",
      "[Packages: ML - Data Structures]\n",
      "Numpy version:  1.19.5\n",
      "Pandas version:  1.2.3\n",
      "Dask version:  2021.04.0\n",
      "\n",
      "[Packages: Plotting Data]\n",
      "Matplotlib version:  3.4.1\n",
      "Seaborn version:  0.11.1\n",
      "\n",
      "[Packages: Natural Language Processing]\n",
      "NLTK version:  3.4.1\n",
      "Spacy version:  3.0.5\n",
      "Gensim version:  4.0.1\n",
      "\n",
      "[Packages: Deep Learning]\n",
      "Keras version:  2.4.3\n",
      "Tensorflow version:  2.4.1\n",
      "PyTorch version:  1.8.1+cpu\n"
     ]
    }
   ],
   "source": [
    "print(\"[Packages: ML- Basics]\")\n",
    "print(\"Scikit-Learn version: \", sklearn.__version__)\n",
    "print(\"Scipy version: \", scipy.__version__)\n",
    "print(\"Theano version: \", theano.__version__)\n",
    "\n",
    "print(\"\\n[Packages: ML - Data Structures]\")\n",
    "print(\"Numpy version: \", np.__version__)\n",
    "print(\"Pandas version: \", pd.__version__)\n",
    "print(\"Dask version: \", dask.__version__)\n",
    "\n",
    "print(\"\\n[Packages: Plotting Data]\")\n",
    "print(\"Matplotlib version: \", mp.__version__)\n",
    "print(\"Seaborn version: \", sb.__version__)\n",
    "\n",
    "print(\"\\n[Packages: Natural Language Processing]\")\n",
    "print(\"NLTK version: \", mp.__version__)\n",
    "print(\"Spacy version: \", spacy.__version__)\n",
    "print(\"Gensim version: \", gensim.__version__)\n",
    "\n",
    "print(\"\\n[Packages: Deep Learning]\")\n",
    "print(\"Keras version: \", keras.__version__)\n",
    "print(\"Tensorflow version: \", tf.__version__)\n",
    "print(\"PyTorch version: \", torch.__version__)"
   ]
  },
  {
   "cell_type": "code",
   "execution_count": null,
   "id": "c6e686dd-a020-443e-bcf9-281b38e6284a",
   "metadata": {},
   "outputs": [],
   "source": []
  }
 ],
 "metadata": {
  "kernelspec": {
   "display_name": "DL",
   "language": "python",
   "name": "dl"
  },
  "language_info": {
   "codemirror_mode": {
    "name": "ipython",
    "version": 3
   },
   "file_extension": ".py",
   "mimetype": "text/x-python",
   "name": "python",
   "nbconvert_exporter": "python",
   "pygments_lexer": "ipython3",
   "version": "3.8.0"
  }
 },
 "nbformat": 4,
 "nbformat_minor": 5
}
